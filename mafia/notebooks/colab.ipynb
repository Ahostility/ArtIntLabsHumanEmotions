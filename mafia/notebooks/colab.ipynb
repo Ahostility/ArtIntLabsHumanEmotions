{
 "nbformat": 4,
 "nbformat_minor": 2,
 "metadata": {
  "language_info": {
   "name": "python",
   "codemirror_mode": {
    "name": "ipython",
    "version": 3
   },
   "version": "3.7.7-final"
  },
  "orig_nbformat": 2,
  "file_extension": ".py",
  "mimetype": "text/x-python",
  "name": "python",
  "npconvert_exporter": "python",
  "pygments_lexer": "ipython3",
  "version": 3,
  "kernelspec": {
   "name": "python37764bit512bd64cb0354e619cb8cb3f86cb441e",
   "display_name": "Python 3.7.7 64-bit"
  }
 },
 "cells": [
  {
   "cell_type": "markdown",
   "metadata": {},
   "source": [
    "<a href=\"https://colab.research.google.com/github/pandov/mafia/blob/video/notebooks/colab.ipynb\" target=\"_parent\"><img src=\"https://colab.research.google.com/assets/colab-badge.svg\" alt=\"Open In Colab\"/></a>"
   ]
  },
  {
   "cell_type": "code",
   "execution_count": null,
   "metadata": {},
   "outputs": [],
   "source": [
    "# 1. Tell Git about yourself:\n",
    "from getpass import getpass\n",
    "u = input('Username: ') # Git username\n",
    "p = getpass('Password: ') # Git password\n",
    "m = input('E-mail: ') # Git e-mail\n",
    "b = input('Branch: ') # Branch you need"
   ]
  },
  {
   "cell_type": "code",
   "execution_count": null,
   "metadata": {},
   "outputs": [],
   "source": [
    "# 2. Initialize Git, then Pull the Branch:\n",
    "! git config --global user.email $m\n",
    "! git config --global user.name $u\n",
    "! git init\n",
    "! git remote add origin https://$u:$p@github.com/pandov/mafia.git\n",
    "! git pull origin $b\n",
    "! git checkout -b $b"
   ]
  },
  {
   "cell_type": "code",
   "execution_count": null,
   "metadata": {},
   "outputs": [],
   "source": [
    "# 3. Run helper:\n",
    "! sh colab.sh"
   ]
  },
  {
   "cell_type": "code",
   "execution_count": null,
   "metadata": {},
   "outputs": [],
   "source": [
    "# 4. Make dvc pull\n",
    "! dvc pull"
   ]
  },
  {
   "cell_type": "code",
   "execution_count": null,
   "metadata": {},
   "outputs": [],
   "source": [
    "# TODO"
   ]
  }
 ]
}