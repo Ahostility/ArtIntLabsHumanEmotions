{
  "cells": [
    {
      "cell_type": "markdown",
      "metadata": {
        "id": "view-in-github",
        "colab_type": "text"
      },
      "source": [
        "<a href=\"https://colab.research.google.com/github/pandov/mafia/blob/video/notebooks/VideoAIMAFNet_experiment.ipynb\" target=\"_parent\"><img src=\"https://colab.research.google.com/assets/colab-badge.svg\" alt=\"Open In Colab\"/></a>"
      ]
    },
    {
      "cell_type": "code",
      "metadata": {
        "id": "RsA9hEFifLoC",
        "colab_type": "code",
        "colab": {}
      },
      "source": [
        "from getpass import getpass\n",
        "u = input('Username: ')\n",
        "p = getpass('Password: ')\n",
        "m = input('E-mail: ')\n",
        "b = input('Branch: ')"
      ],
      "execution_count": null,
      "outputs": []
    },
    {
      "cell_type": "code",
      "metadata": {
        "id": "zpBfteaTfLoJ",
        "colab_type": "code",
        "outputId": "f328e018-94b3-4aa8-ca61-099d18e5c0a3",
        "colab": {
          "base_uri": "https://localhost:8080/",
          "height": 33
        }
      },
      "source": [
        "! git config --global user.email $m\n",
        "! git config --global user.name $u\n",
        "! git init\n",
        "! git remote add origin https://$u:$p@github.com/pandov/mafia.git"
      ],
      "execution_count": null,
      "outputs": []
    },
    {
      "cell_type": "code",
      "metadata": {
        "id": "1ycMKs9IhDk_",
        "colab_type": "code",
        "outputId": "58244b64-e215-47c0-dcb7-594aff413fb7",
        "colab": {
          "base_uri": "https://localhost:8080/",
          "height": 217
        }
      },
      "source": [
        "! git pull origin $b\n",
        "# ! git checkout -b $b"
      ],
      "execution_count": null,
      "outputs": []
    },
    {
      "cell_type": "code",
      "metadata": {
        "id": "7-rUDMwdfLoP",
        "colab_type": "code",
        "outputId": "70a87e79-0dac-4442-9f90-82d723959e7b",
        "colab": {
          "base_uri": "https://localhost:8080/",
          "height": 1000
        }
      },
      "source": [
        "! sh colab.sh"
      ],
      "execution_count": null,
      "outputs": []
    },
    {
      "cell_type": "code",
      "metadata": {
        "id": "jwfnrK16DCOW",
        "colab_type": "code",
        "outputId": "edea208c-5316-4419-f7b0-6bd4174c45bb",
        "colab": {
          "base_uri": "https://localhost:8080/",
          "height": 1000
        }
      },
      "source": [
        "# ! rm -r .dvc/lock .dvc/tmp\n",
        "! dvc pull stages/VideoAIMAF_mining_inference.dvc"
      ],
      "execution_count": null,
      "outputs": []
    },
    {
      "cell_type": "code",
      "metadata": {
        "id": "P0BjXEm3fLoc",
        "colab_type": "code",
        "outputId": "9c644f1f-874b-4617-889e-ebe98f4af365",
        "colab": {
          "base_uri": "https://localhost:8080/",
          "height": 1000
        }
      },
      "source": [
        "! dvc repro -s -f stages/VideoAIMAFNet_experiment0.dvc"
      ],
      "execution_count": null,
      "outputs": []
    },
    {
      "cell_type": "code",
      "metadata": {
        "id": "7EU77hVRfLog",
        "colab_type": "code",
        "outputId": "f2358a09-a5ce-4892-c117-05d5d75e47e6",
        "colab": {
          "base_uri": "https://localhost:8080/",
          "height": 134
        }
      },
      "source": [
        "! dvc metrics modify -t json -x best data/logs/VideoAIMAFNet/0/checkpoints/_metrics.json"
      ],
      "execution_count": null,
      "outputs": []
    },
    {
      "cell_type": "code",
      "metadata": {
        "id": "FD1OdsE3hoVD",
        "colab_type": "code",
        "outputId": "715069d7-522a-4b31-8d13-b5903bef9df2",
        "colab": {
          "base_uri": "https://localhost:8080/",
          "height": 170
        }
      },
      "source": [
        "! dvc metrics show data/logs/VideoAIMAFNet/0/checkpoints/_metrics.json"
      ],
      "execution_count": null,
      "outputs": []
    },
    {
      "cell_type": "code",
      "metadata": {
        "id": "Ats4OL6zfLol",
        "colab_type": "code",
        "outputId": "fa7bbde7-da5c-46f8-bdb4-c47dee970064",
        "colab": {
          "base_uri": "https://localhost:8080/",
          "height": 1000
        }
      },
      "source": [
        "! dvc push stages/VideoAIMAFNet_experiment0.dvc"
      ],
      "execution_count": null,
      "outputs": []
    },
    {
      "cell_type": "code",
      "metadata": {
        "id": "V9J5EgqfswdF",
        "colab_type": "code",
        "outputId": "3df1aecf-a0c7-4106-9844-78c2a463bbcc",
        "colab": {
          "base_uri": "https://localhost:8080/",
          "height": 184
        }
      },
      "source": [
        "! git add stages/VideoAIMAFNet_experiment0.dvc\n",
        "! git commit -m 'run stage'\n",
        "! git push origin $b"
      ],
      "execution_count": null,
      "outputs": []
    },
    {
      "cell_type": "code",
      "metadata": {
        "id": "vl660gyqHPZV",
        "colab_type": "code",
        "colab": {}
      },
      "source": [
        ""
      ],
      "execution_count": null,
      "outputs": []
    }
  ],
  "metadata": {
    "orig_nbformat": 2,
    "file_extension": ".py",
    "mimetype": "text/x-python",
    "name": "python",
    "npconvert_exporter": "python",
    "pygments_lexer": "ipython3",
    "version": 3,
    "kernelspec": {
      "name": "python3",
      "display_name": "Python 3"
    },
    "colab": {
      "name": "EmoNet_experiment.ipynb",
      "provenance": [],
      "include_colab_link": true
    },
    "accelerator": "GPU"
  },
  "nbformat": 4,
  "nbformat_minor": 0
}